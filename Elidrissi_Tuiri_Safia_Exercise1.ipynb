{
 "cells": [
  {
   "cell_type": "code",
   "execution_count": 9,
   "metadata": {},
   "outputs": [
    {
     "name": "stdout",
     "output_type": "stream",
     "text": [
      "Enter ip address:172.16.1.1\n",
      "Enter subnet mask in decimal format:/16\n",
      "Subnet mask is invalid\n",
      "Enter subnet mask in decimal format:16\n",
      "       172        16         1         1\n",
      "  10101100   00010000   00000001   00000001\n",
      "network address is: 172.16.1.116/32\n",
      "broadcast address is: None/32\n"
     ]
    }
   ],
   "source": [
    "import re\n",
    "from netaddr import *\n",
    "#import pprint\n",
    "\n",
    "#function to check the validity of an ip address\n",
    "def valide(ip):\n",
    "    if re.match(\"^(([0-9]|[1-9][0-9]|1[0-9]{2}|2[0-4][0-9]|25[0-5])\\.){3}([0-9]|[1-9][0-9]|1[0-9]{2}|2[0-4][0-9]|25[0-5])$\", ip):\n",
    "         return True\n",
    "    else:\n",
    "        return False\n",
    "\n",
    "#function to check the validity of the mask in its decimal format      \n",
    "def valideMask(mask):\n",
    "     if re.match(\"\\/(?:\\b|-)([0-9]{1}|[1-2][0-9]|[3][0-2])\\b\", mask):\n",
    "        return True\n",
    "     else:\n",
    "        return False\n",
    "#Asking the user for a valid ip address and checking the input          \n",
    "ip =input(\"Enter ip address:\")\n",
    "repIP= valide(ip)\n",
    "while (repIP) == False : \n",
    "     print (\"Invalid IP address format\")\n",
    "     ip =input(\"Enter ip address:\")\n",
    "     break\n",
    "        \n",
    "#Asking the user for a valid mask and checking the input       \n",
    "mask =input(\"Enter subnet mask in decimal format:\")\n",
    "repMask = valideMask(mask)\n",
    "while (repMask) == False : \n",
    "     print (\"Subnet mask is invalid\")\n",
    "     mask =input(\"Enter subnet mask in decimal format:\")\n",
    "     break\n",
    "        \n",
    "#Displaying the ip address in the binary and decimal format as requested using lists and the format function\n",
    "liste = ip.split('.')\n",
    "print( '{:>10}'.format(liste[0])+'{:>10}'.format(liste[1])+'{:>10}'.format(liste[2])+'{:>10}'.format(liste[3]))\n",
    "print('{:>10}'.format(bin(int(liste[0])).lstrip('-0b').zfill(8)),'{:>10}'.format(bin(int(liste[1])).lstrip('-0b').zfill(8)),'{:>10}'.format(bin(int(liste[2])).lstrip('-0b').zfill(8)),'{:>10}'.format(bin(int(liste[3])).lstrip('-0b').zfill(8)))\n",
    "#Initiating the IPNetwork object and using the methods network and broadcast\n",
    "inst=ip+mask\n",
    "obj=IPNetwork(inst)\n",
    "print('network address is: '+str(obj.network)+'/'+str(obj.prefixlen))\n",
    "print('broadcast address is: '+str(obj.broadcast)+'/'+str(obj.prefixlen))"
   ]
  }
 ],
 "metadata": {
  "kernelspec": {
   "display_name": "Python 3",
   "language": "python",
   "name": "python3"
  },
  "language_info": {
   "codemirror_mode": {
    "name": "ipython",
    "version": 3
   },
   "file_extension": ".py",
   "mimetype": "text/x-python",
   "name": "python",
   "nbconvert_exporter": "python",
   "pygments_lexer": "ipython3",
   "version": "3.6.3"
  }
 },
 "nbformat": 4,
 "nbformat_minor": 2
}

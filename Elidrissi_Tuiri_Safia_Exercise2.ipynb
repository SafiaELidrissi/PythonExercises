{
 "cells": [
  {
   "cell_type": "code",
   "execution_count": 1,
   "metadata": {},
   "outputs": [
    {
     "name": "stdout",
     "output_type": "stream",
     "text": [
      "Liste_1: [3, 25, 44, 77, 88, 100, 112]\n",
      "Liste_2: [5, 111]\n"
     ]
    }
   ],
   "source": [
    "import re\n",
    "\n",
    "VlanPattern = re.compile('(s\\w+)\\s(t\\w+.+)\\s(\\d.+)')\n",
    "#A list containing commands in dict format \n",
    "commandsDict = [] \n",
    "#Create the inner dictionary of command info\n",
    "commandInfo = {} \n",
    "\n",
    "#Read the information from the text file\n",
    "f = open('commands.txt','r')\n",
    "for line in f:\n",
    "    InfoList = line.strip().split('#') \n",
    "\n",
    "\n",
    "#Spot the VLANs and put them into commandInfo \n",
    "    vlan = VlanPattern.search(line)\n",
    "    if vlan:\n",
    "        cmd = vlan.group(3)\n",
    "    else:\n",
    "        continue\n",
    "\n",
    "#Add the commandInfo elements to the commandsDict_ list \n",
    "    commandsDict.append(cmd)\n",
    "   \n",
    "    \n",
    "commandsDict= list(commandsDict)\n",
    "commandsDict= \",\".join(commandsDict)\n",
    "commandsDict_= list(commandsDict)\n",
    "commandsDict_=commandsDict.split(',')\n",
    "\n",
    "listA= []\n",
    "listB= []\n",
    "for num in commandsDict_:\n",
    "    if commandsDict_.count(num) > 2:\n",
    "        \n",
    "            listB.append(int(num))\n",
    "            listB=set(listB)\n",
    "            listB=list(listB)\n",
    "            listB.sort()\n",
    "    \n",
    "    elif commandsDict_.count(num) == 1:\n",
    "            listA.append(int(num))\n",
    "            listA.sort();\n",
    "            \n",
    "    else:\n",
    "        continue\n",
    "\n",
    "print (\"Liste_1:\", listA)\n",
    "\n",
    "print (\"Liste_2:\", listB)\n",
    "f.close()"
   ]
  }
 ],
 "metadata": {
  "kernelspec": {
   "display_name": "Python 3",
   "language": "python",
   "name": "python3"
  },
  "language_info": {
   "codemirror_mode": {
    "name": "ipython",
    "version": 3
   },
   "file_extension": ".py",
   "mimetype": "text/x-python",
   "name": "python",
   "nbconvert_exporter": "python",
   "pygments_lexer": "ipython3",
   "version": "3.6.3"
  }
 },
 "nbformat": 4,
 "nbformat_minor": 2
}

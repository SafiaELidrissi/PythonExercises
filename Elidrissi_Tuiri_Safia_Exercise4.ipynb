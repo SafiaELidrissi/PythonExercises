{
 "cells": [
  {
   "cell_type": "code",
   "execution_count": 2,
   "metadata": {},
   "outputs": [
    {
     "name": "stdout",
     "output_type": "stream",
     "text": [
      "Enter interface mode (access/trunk):trunk\n",
      "Enter interface type and number: gi0/0\n",
      "Enter allowed VLANs:4 5\n",
      "Interface gi0/0\n",
      "switchport trunk encapsulation dot1q\n",
      "switchport mode trunk\n",
      "switchport trunk allowed vlan {}\n"
     ]
    }
   ],
   "source": [
    "import re\n",
    "#Creating the access and the trunk lisls\n",
    "AccessLSst = ['switchport mode access','switchport access vlan {}','switchport nonegotiate','spanning-tree portfast',\n",
    "                   'spanning-tree bpduguard enable']\n",
    "\n",
    "TrunkLst = ['switchport trunk encapsulation dot1q','switchport mode trunk', 'switchport trunk allowed vlan {}']\n",
    "\n",
    "#Asking the user for the mode and type of the interface\n",
    "intMode=input(\"Enter interface mode (access/trunk):\")\n",
    "intType=input(\"Enter interface type and number: \")\n",
    "\n",
    "#Displaying the infor depending on the user's input\n",
    "if intMode=='access':\n",
    "    Vnum=input(\"Enter VLAN number: \")\n",
    "    print (\"Interface\",intType)\n",
    "    \n",
    "    AccessLSst = [w.replace('{}', Vnum) for w in AccessLSst]   \n",
    "   \n",
    "    for line in AccessLSst:\n",
    "        print(line)\n",
    "elif intMode=='trunk':\n",
    "    Vallow=input(\"Enter allowed VLANs:\")\n",
    "    trunk_template = [w.replace('{}', Vallow) for w in TrunkLst] \n",
    "    print (\"Interface\",intType)\n",
    "\n",
    "    for line in TrunkLst:\n",
    "        print (line)\n",
    "else:\n",
    "    print(\"sorry there was an error in your entry. Please try again\")"
   ]
  }
 ],
 "metadata": {
  "kernelspec": {
   "display_name": "Python 3",
   "language": "python",
   "name": "python3"
  },
  "language_info": {
   "codemirror_mode": {
    "name": "ipython",
    "version": 3
   },
   "file_extension": ".py",
   "mimetype": "text/x-python",
   "name": "python",
   "nbconvert_exporter": "python",
   "pygments_lexer": "ipython3",
   "version": "3.6.3"
  }
 },
 "nbformat": 4,
 "nbformat_minor": 2
}
